{
 "cells": [
  {
   "cell_type": "markdown",
   "metadata": {},
   "source": [
    "# Simple RNN models\n",
    "\n",
    "Now that I have extracted MFCC/Mel filter bank features from the audio, I would like to test the simplest neural network models. Basic RNN (GRU, LSTM) models will be tested.\n",
    "\n",
    "Trained on GeForce GTX 1080.\n",
    "\n",
    "So far the results on the validation set are:\n",
    "\n",
    "| Feature | Model  | Hidden Dim  | Accuracy  |\n",
    "|:--------:|:-----:|:-----------:|:---------:|\n",
    "| MFCC (39d)| LSTM | 128        |  .9206 |\n",
    "| MFCC (39d)| LSTM | 256        |  .9297 |\n",
    "| MFCC (39d)| LSTM | 512        |  **.9356** |\n",
    "| MFCC (39d)| GRU  | 128        |  .9238 |\n",
    "| MFCC (39d)| GRU  | 256        |  .9316 |\n",
    "| MFCC (39d)| GRU  | 512        |  .9278 |\n"
   ]
  },
  {
   "cell_type": "code",
   "execution_count": 2,
   "metadata": {
    "collapsed": true
   },
   "outputs": [],
   "source": [
    "import pandas as pd\n",
    "import numpy as np\n",
    "from collections import Counter\n",
    "\n",
    "from keras.layers import Dense, LSTM, GRU, Activation, Dropout\n",
    "from keras.models import Sequential\n",
    "from keras.callbacks import EarlyStopping\n",
    "\n",
    "from keras.utils import to_categorical\n",
    "from sklearn.metrics import classification_report"
   ]
  },
  {
   "cell_type": "markdown",
   "metadata": {},
   "source": [
    "## load data"
   ]
  },
  {
   "cell_type": "code",
   "execution_count": 3,
   "metadata": {},
   "outputs": [
    {
     "name": "stdout",
     "output_type": "stream",
     "text": [
      "test_mel.npy   test_spec.npy  train_mfcc.npy  valid_mel.npy   valid_spec.npy\r\n",
      "test_mfcc.npy  train_mel.npy  train_spec.npy  valid_mfcc.npy\r\n"
     ]
    }
   ],
   "source": [
    "%ls preprocessed"
   ]
  },
  {
   "cell_type": "code",
   "execution_count": 4,
   "metadata": {},
   "outputs": [
    {
     "name": "stdout",
     "output_type": "stream",
     "text": [
      "loaded (51088, 99, 40)\n",
      "loaded (51088, 99, 39)\n",
      "loaded (6798, 99, 40)\n",
      "loaded (6798, 99, 39)\n"
     ]
    }
   ],
   "source": [
    "features = [\"mel\",\"mfcc\"]\n",
    "\n",
    "train, valid = {},{}\n",
    "\n",
    "for f in features:\n",
    "    train[f] = np.load(\"preprocessed/train_%s.npy\" % f).T\n",
    "    train[f] = np.swapaxes(train[f], 1,2)\n",
    "    print(\"loaded %s\" % str(train[f].shape))\n",
    "for f in features:\n",
    "    valid[f] = np.load(\"preprocessed/valid_%s.npy\" % f).T\n",
    "    valid[f] = np.swapaxes(valid[f], 1,2)\n",
    "    print(\"loaded %s\" % str(valid[f].shape))"
   ]
  },
  {
   "cell_type": "code",
   "execution_count": 5,
   "metadata": {},
   "outputs": [
    {
     "data": {
      "text/plain": [
       "(51088, ['right', 'right', 'right', 'right', 'right'])"
      ]
     },
     "execution_count": 5,
     "metadata": {},
     "output_type": "execute_result"
    }
   ],
   "source": [
    "train_labels = pd.read_csv(\"./data/train_list.csv\")[\"label\"].tolist()\n",
    "len(train_labels), train_labels[:5]"
   ]
  },
  {
   "cell_type": "code",
   "execution_count": 6,
   "metadata": {},
   "outputs": [
    {
     "data": {
      "text/plain": [
       "(6798, ['right', 'right', 'right', 'right', 'right'])"
      ]
     },
     "execution_count": 6,
     "metadata": {},
     "output_type": "execute_result"
    }
   ],
   "source": [
    "valid_labels = pd.read_csv(\"./data/valid_list.csv\")[\"label\"].tolist()\n",
    "len(valid_labels), valid_labels[:5]"
   ]
  },
  {
   "cell_type": "code",
   "execution_count": 7,
   "metadata": {},
   "outputs": [
    {
     "data": {
      "text/plain": [
       "['yes', 'no', 'up', 'down', 'left', 'right', 'on', 'off', 'stop', 'go']"
      ]
     },
     "execution_count": 7,
     "metadata": {},
     "output_type": "execute_result"
    }
   ],
   "source": [
    "target_labels = \"yes, no, up, down, left, right, on, off, stop, go\".split(\", \")\n",
    "target_labels"
   ]
  },
  {
   "cell_type": "code",
   "execution_count": 8,
   "metadata": {
    "collapsed": true
   },
   "outputs": [],
   "source": [
    "train_labels = list(map(lambda x: x if x in target_labels else \"unknown\", train_labels))\n",
    "valid_labels = list(map(lambda x: x if x in target_labels else \"unknown\", valid_labels))"
   ]
  },
  {
   "cell_type": "code",
   "execution_count": 9,
   "metadata": {},
   "outputs": [
    {
     "data": {
      "text/plain": [
       "('unknown',\n",
       " 'stop',\n",
       " 'on',\n",
       " 'go',\n",
       " 'yes',\n",
       " 'no',\n",
       " 'right',\n",
       " 'up',\n",
       " 'down',\n",
       " 'off',\n",
       " 'left')"
      ]
     },
     "execution_count": 9,
     "metadata": {},
     "output_type": "execute_result"
    }
   ],
   "source": [
    "label_counter = Counter(train_labels)\n",
    "label_order, _ = list(zip(*label_counter.most_common(11)))\n",
    "label_order"
   ]
  },
  {
   "cell_type": "code",
   "execution_count": 10,
   "metadata": {
    "collapsed": true
   },
   "outputs": [],
   "source": [
    "train_labels = list(map(lambda x: label_order.index(x), train_labels))\n",
    "valid_labels = list(map(lambda x: label_order.index(x), valid_labels))"
   ]
  },
  {
   "cell_type": "code",
   "execution_count": 11,
   "metadata": {},
   "outputs": [
    {
     "data": {
      "text/plain": [
       "(51088, 11)"
      ]
     },
     "execution_count": 11,
     "metadata": {},
     "output_type": "execute_result"
    }
   ],
   "source": [
    "train_labels = to_categorical(train_labels, num_classes=11)\n",
    "train_labels.shape"
   ]
  },
  {
   "cell_type": "code",
   "execution_count": 12,
   "metadata": {},
   "outputs": [
    {
     "data": {
      "text/plain": [
       "(6798, 11)"
      ]
     },
     "execution_count": 12,
     "metadata": {},
     "output_type": "execute_result"
    }
   ],
   "source": [
    "valid_labels = to_categorical(valid_labels, num_classes=11)\n",
    "valid_labels.shape"
   ]
  },
  {
   "cell_type": "markdown",
   "metadata": {},
   "source": [
    "## Using only MFCC as features"
   ]
  },
  {
   "cell_type": "code",
   "execution_count": 17,
   "metadata": {
    "collapsed": true
   },
   "outputs": [],
   "source": [
    "# Stop training well validation accuracy decreases\n",
    "early_stop_callback = EarlyStopping(monitor='val_categorical_accuracy', \n",
    "                                    patience=2, mode='max')"
   ]
  },
  {
   "cell_type": "markdown",
   "metadata": {},
   "source": [
    "### LSTM hidden_size=128"
   ]
  },
  {
   "cell_type": "code",
   "execution_count": null,
   "metadata": {
    "collapsed": true
   },
   "outputs": [],
   "source": [
    "train[\"mfcc\"].shape"
   ]
  },
  {
   "cell_type": "code",
   "execution_count": 15,
   "metadata": {
    "collapsed": true
   },
   "outputs": [],
   "source": [
    "hidden_size = 128\n",
    "batch_size = 32"
   ]
  },
  {
   "cell_type": "code",
   "execution_count": null,
   "metadata": {
    "collapsed": true
   },
   "outputs": [],
   "source": [
    "lstm_model = Sequential()\n",
    "lstm_model.add(LSTM(hidden_size, input_shape=(99, 39)))\n",
    "lstm_model.add(Dense(11))\n",
    "lstm_model.add(Activation(\"softmax\"))\n",
    "\n",
    "lstm_model.compile(optimizer=\"adam\", loss=\"categorical_crossentropy\",\n",
    "                   metrics=['categorical_accuracy'])\n"
   ]
  },
  {
   "cell_type": "code",
   "execution_count": null,
   "metadata": {},
   "outputs": [
    {
     "name": "stdout",
     "output_type": "stream",
     "text": [
      "Train on 51088 samples, validate on 6798 samples\n",
      "Epoch 1/10\n",
      "51088/51088 [==============================] - 278s 5ms/step - loss: 1.0576 - categorical_accuracy: 0.6836 - val_loss: 0.6602 - val_categorical_accuracy: 0.7954\n",
      "Epoch 2/10\n",
      "51088/51088 [==============================] - 275s 5ms/step - loss: 0.4842 - categorical_accuracy: 0.8484 - val_loss: 0.4075 - val_categorical_accuracy: 0.8741\n",
      "Epoch 3/10\n",
      "51088/51088 [==============================] - 275s 5ms/step - loss: 0.3232 - categorical_accuracy: 0.9000 - val_loss: 0.3557 - val_categorical_accuracy: 0.8910\n",
      "Epoch 4/10\n",
      "51088/51088 [==============================] - 275s 5ms/step - loss: 0.2644 - categorical_accuracy: 0.9192 - val_loss: 0.3114 - val_categorical_accuracy: 0.9036\n",
      "Epoch 5/10\n",
      "51088/51088 [==============================] - 275s 5ms/step - loss: 0.2324 - categorical_accuracy: 0.9286 - val_loss: 0.3105 - val_categorical_accuracy: 0.9042\n",
      "Epoch 6/10\n",
      "51088/51088 [==============================] - 276s 5ms/step - loss: 0.2061 - categorical_accuracy: 0.9366 - val_loss: 0.2973 - val_categorical_accuracy: 0.9107\n",
      "Epoch 7/10\n",
      "51088/51088 [==============================] - 274s 5ms/step - loss: 0.1951 - categorical_accuracy: 0.9393 - val_loss: 0.2714 - val_categorical_accuracy: 0.9153\n",
      "Epoch 8/10\n",
      "51088/51088 [==============================] - 276s 5ms/step - loss: 0.1796 - categorical_accuracy: 0.9436 - val_loss: 0.2770 - val_categorical_accuracy: 0.9145\n",
      "Epoch 9/10\n",
      "51088/51088 [==============================] - 275s 5ms/step - loss: 0.1711 - categorical_accuracy: 0.9462 - val_loss: 0.2645 - val_categorical_accuracy: 0.9203\n",
      "Epoch 10/10\n",
      "51088/51088 [==============================] - 275s 5ms/step - loss: 0.1592 - categorical_accuracy: 0.9489 - val_loss: 0.2775 - val_categorical_accuracy: 0.9206\n"
     ]
    },
    {
     "data": {
      "text/plain": [
       "<keras.callbacks.History at 0x7f34a0215898>"
      ]
     },
     "execution_count": 17,
     "metadata": {},
     "output_type": "execute_result"
    }
   ],
   "source": [
    "lstm_model.fit(x=train[\"mfcc\"], y=train_labels, \n",
    "               validation_data=(valid[\"mfcc\"], valid_labels),\n",
    "               batch_size=batch_size, \n",
    "               callbacks=[early_stop_callback],\n",
    "               epochs=10, shuffle=True)"
   ]
  },
  {
   "cell_type": "markdown",
   "metadata": {},
   "source": [
    "validation accuracy = 0.9206"
   ]
  },
  {
   "cell_type": "markdown",
   "metadata": {},
   "source": [
    "### LSTM hidden_size=256"
   ]
  },
  {
   "cell_type": "code",
   "execution_count": 14,
   "metadata": {
    "collapsed": true
   },
   "outputs": [],
   "source": [
    "hidden_size = 256\n",
    "batch_size = 64"
   ]
  },
  {
   "cell_type": "code",
   "execution_count": 15,
   "metadata": {
    "collapsed": true
   },
   "outputs": [],
   "source": [
    "lstm_model = Sequential()\n",
    "lstm_model.add(LSTM(hidden_size, input_shape=(99, 39)))\n",
    "lstm_model.add(Dense(11))\n",
    "lstm_model.add(Activation(\"softmax\"))\n",
    "\n",
    "lstm_model.compile(optimizer=\"adam\", loss=\"categorical_crossentropy\",\n",
    "                   metrics=['categorical_accuracy'])"
   ]
  },
  {
   "cell_type": "code",
   "execution_count": 16,
   "metadata": {},
   "outputs": [
    {
     "name": "stdout",
     "output_type": "stream",
     "text": [
      "Train on 51088 samples, validate on 6798 samples\n",
      "Epoch 1/20\n",
      "51088/51088 [==============================] - 155s 3ms/step - loss: 0.8811 - categorical_accuracy: 0.7419 - val_loss: 0.4507 - val_categorical_accuracy: 0.8588\n",
      "Epoch 2/20\n",
      "51088/51088 [==============================] - 152s 3ms/step - loss: 0.3233 - categorical_accuracy: 0.8999 - val_loss: 0.3195 - val_categorical_accuracy: 0.9019\n",
      "Epoch 3/20\n",
      "51088/51088 [==============================] - 155s 3ms/step - loss: 0.2296 - categorical_accuracy: 0.9291 - val_loss: 0.3078 - val_categorical_accuracy: 0.9081\n",
      "Epoch 4/20\n",
      "51088/51088 [==============================] - 157s 3ms/step - loss: 0.1836 - categorical_accuracy: 0.9429 - val_loss: 0.2755 - val_categorical_accuracy: 0.9210\n",
      "Epoch 5/20\n",
      "51088/51088 [==============================] - 157s 3ms/step - loss: 0.1534 - categorical_accuracy: 0.9518 - val_loss: 0.2631 - val_categorical_accuracy: 0.9239\n",
      "Epoch 6/20\n",
      "51088/51088 [==============================] - 156s 3ms/step - loss: 0.1365 - categorical_accuracy: 0.9574 - val_loss: 0.2588 - val_categorical_accuracy: 0.9250\n",
      "Epoch 7/20\n",
      "51088/51088 [==============================] - 153s 3ms/step - loss: 0.1181 - categorical_accuracy: 0.9634 - val_loss: 0.2566 - val_categorical_accuracy: 0.9278\n",
      "Epoch 8/20\n",
      "51088/51088 [==============================] - 152s 3ms/step - loss: 0.1125 - categorical_accuracy: 0.9644 - val_loss: 0.2578 - val_categorical_accuracy: 0.9234\n",
      "Epoch 9/20\n",
      "51088/51088 [==============================] - 154s 3ms/step - loss: 0.1006 - categorical_accuracy: 0.9688 - val_loss: 0.2477 - val_categorical_accuracy: 0.9297\n",
      "Epoch 10/20\n",
      "51088/51088 [==============================] - 155s 3ms/step - loss: 0.0939 - categorical_accuracy: 0.9700 - val_loss: 0.2540 - val_categorical_accuracy: 0.9272\n",
      "Epoch 11/20\n",
      "51088/51088 [==============================] - 155s 3ms/step - loss: 0.0866 - categorical_accuracy: 0.9725 - val_loss: 0.2733 - val_categorical_accuracy: 0.9257\n"
     ]
    },
    {
     "data": {
      "text/plain": [
       "<keras.callbacks.History at 0x7f7d556a9fd0>"
      ]
     },
     "execution_count": 16,
     "metadata": {},
     "output_type": "execute_result"
    }
   ],
   "source": [
    "lstm_model.fit(x=train[\"mfcc\"], y=train_labels, \n",
    "               validation_data=(valid[\"mfcc\"], valid_labels),\n",
    "               batch_size=batch_size,\n",
    "               callbacks=[early_stop_callback],\n",
    "               epochs=20, shuffle=True)"
   ]
  },
  {
   "cell_type": "markdown",
   "metadata": {},
   "source": [
    "final validation accuracy = 0.9297"
   ]
  },
  {
   "cell_type": "markdown",
   "metadata": {},
   "source": [
    "### LSTM Hidden Size 512"
   ]
  },
  {
   "cell_type": "code",
   "execution_count": 20,
   "metadata": {
    "collapsed": true
   },
   "outputs": [],
   "source": [
    "hidden_size = 512\n",
    "batch_size = 64"
   ]
  },
  {
   "cell_type": "code",
   "execution_count": 21,
   "metadata": {
    "collapsed": true
   },
   "outputs": [],
   "source": [
    "lstm_model = Sequential()\n",
    "lstm_model.add(LSTM(hidden_size, input_shape=(99, 39)))\n",
    "lstm_model.add(Dense(11))\n",
    "lstm_model.add(Activation(\"softmax\"))\n",
    "\n",
    "lstm_model.compile(optimizer=\"adam\", loss=\"categorical_crossentropy\",\n",
    "                   metrics=['categorical_accuracy'])"
   ]
  },
  {
   "cell_type": "code",
   "execution_count": 22,
   "metadata": {},
   "outputs": [
    {
     "name": "stdout",
     "output_type": "stream",
     "text": [
      "Train on 51088 samples, validate on 6798 samples\n",
      "Epoch 1/20\n",
      "51088/51088 [==============================] - 142s 3ms/step - loss: 0.6837 - categorical_accuracy: 0.7954 - val_loss: 0.3307 - val_categorical_accuracy: 0.8985\n",
      "Epoch 2/20\n",
      "51088/51088 [==============================] - 141s 3ms/step - loss: 0.2497 - categorical_accuracy: 0.9231 - val_loss: 0.2755 - val_categorical_accuracy: 0.9164\n",
      "Epoch 3/20\n",
      "51088/51088 [==============================] - 141s 3ms/step - loss: 0.1799 - categorical_accuracy: 0.9456 - val_loss: 0.2463 - val_categorical_accuracy: 0.9247\n",
      "Epoch 4/20\n",
      "51088/51088 [==============================] - 144s 3ms/step - loss: 0.1444 - categorical_accuracy: 0.9556 - val_loss: 0.2208 - val_categorical_accuracy: 0.9325\n",
      "Epoch 5/20\n",
      "51088/51088 [==============================] - 142s 3ms/step - loss: 0.1226 - categorical_accuracy: 0.9621 - val_loss: 0.2258 - val_categorical_accuracy: 0.9319\n",
      "Epoch 6/20\n",
      "51088/51088 [==============================] - 141s 3ms/step - loss: 0.1109 - categorical_accuracy: 0.9652 - val_loss: 0.2279 - val_categorical_accuracy: 0.9356\n",
      "Epoch 7/20\n",
      "51088/51088 [==============================] - 141s 3ms/step - loss: 0.0969 - categorical_accuracy: 0.9686 - val_loss: 0.2328 - val_categorical_accuracy: 0.9353\n",
      "Epoch 8/20\n",
      "51088/51088 [==============================] - 142s 3ms/step - loss: 0.0884 - categorical_accuracy: 0.9722 - val_loss: 0.2400 - val_categorical_accuracy: 0.9345\n"
     ]
    },
    {
     "data": {
      "text/plain": [
       "<keras.callbacks.History at 0x7f4345e16b38>"
      ]
     },
     "execution_count": 22,
     "metadata": {},
     "output_type": "execute_result"
    }
   ],
   "source": [
    "lstm_model.fit(x=train[\"mfcc\"], y=train_labels, \n",
    "               validation_data=(valid[\"mfcc\"], valid_labels),\n",
    "               batch_size=batch_size,\n",
    "               callbacks=[early_stop_callback],\n",
    "               epochs=20, shuffle=True)"
   ]
  },
  {
   "cell_type": "markdown",
   "metadata": {},
   "source": [
    "validation accuracy 0.9356"
   ]
  },
  {
   "cell_type": "markdown",
   "metadata": {},
   "source": [
    "### LSTM Hidden Size 1024"
   ]
  },
  {
   "cell_type": "code",
   "execution_count": 23,
   "metadata": {
    "collapsed": true
   },
   "outputs": [],
   "source": [
    "hidden_size = 1024\n",
    "batch_size = 64"
   ]
  },
  {
   "cell_type": "code",
   "execution_count": 24,
   "metadata": {
    "collapsed": true
   },
   "outputs": [],
   "source": [
    "lstm_model = Sequential()\n",
    "lstm_model.add(LSTM(hidden_size, input_shape=(99, 39)))\n",
    "lstm_model.add(Dense(11))\n",
    "lstm_model.add(Activation(\"softmax\"))\n",
    "\n",
    "lstm_model.compile(optimizer=\"adam\", loss=\"categorical_crossentropy\",\n",
    "                   metrics=['categorical_accuracy'])"
   ]
  },
  {
   "cell_type": "code",
   "execution_count": 25,
   "metadata": {},
   "outputs": [
    {
     "name": "stdout",
     "output_type": "stream",
     "text": [
      "Train on 51088 samples, validate on 6798 samples\n",
      "Epoch 1/20\n",
      "51088/51088 [==============================] - 141s 3ms/step - loss: 0.5498 - categorical_accuracy: 0.8344 - val_loss: 0.3052 - val_categorical_accuracy: 0.9092\n",
      "Epoch 2/20\n",
      "51088/51088 [==============================] - 151s 3ms/step - loss: 0.2084 - categorical_accuracy: 0.9349 - val_loss: 0.2383 - val_categorical_accuracy: 0.9256\n",
      "Epoch 3/20\n",
      "51088/51088 [==============================] - 149s 3ms/step - loss: 0.1500 - categorical_accuracy: 0.9543 - val_loss: 0.2133 - val_categorical_accuracy: 0.9390\n",
      "Epoch 4/20\n",
      "51088/51088 [==============================] - 140s 3ms/step - loss: 0.1240 - categorical_accuracy: 0.9609 - val_loss: 0.2153 - val_categorical_accuracy: 0.9348\n",
      "Epoch 5/20\n",
      "51088/51088 [==============================] - 140s 3ms/step - loss: 0.1008 - categorical_accuracy: 0.9688 - val_loss: 0.2102 - val_categorical_accuracy: 0.9412\n",
      "Epoch 6/20\n",
      "51088/51088 [==============================] - 140s 3ms/step - loss: 0.0955 - categorical_accuracy: 0.9700 - val_loss: 0.2075 - val_categorical_accuracy: 0.9400\n",
      "Epoch 7/20\n",
      "51088/51088 [==============================] - 140s 3ms/step - loss: 0.0837 - categorical_accuracy: 0.9735 - val_loss: 0.2151 - val_categorical_accuracy: 0.9415\n",
      "Epoch 8/20\n",
      "51088/51088 [==============================] - 141s 3ms/step - loss: 0.0726 - categorical_accuracy: 0.9767 - val_loss: 0.2257 - val_categorical_accuracy: 0.9390\n",
      "Epoch 9/20\n",
      "51088/51088 [==============================] - 140s 3ms/step - loss: 0.0683 - categorical_accuracy: 0.9778 - val_loss: 0.2549 - val_categorical_accuracy: 0.9373\n"
     ]
    },
    {
     "data": {
      "text/plain": [
       "<keras.callbacks.History at 0x7f42301a6828>"
      ]
     },
     "execution_count": 25,
     "metadata": {},
     "output_type": "execute_result"
    }
   ],
   "source": [
    "lstm_model.fit(x=train[\"mfcc\"], y=train_labels, \n",
    "               validation_data=(valid[\"mfcc\"], valid_labels),\n",
    "               batch_size=batch_size,\n",
    "               callbacks=[early_stop_callback],\n",
    "               epochs=20, shuffle=True)"
   ]
  },
  {
   "cell_type": "markdown",
   "metadata": {},
   "source": [
    "validation accuracy 0.9415"
   ]
  },
  {
   "cell_type": "markdown",
   "metadata": {
    "collapsed": true
   },
   "source": [
    "### GRU hidden_size=128"
   ]
  },
  {
   "cell_type": "code",
   "execution_count": null,
   "metadata": {
    "collapsed": true
   },
   "outputs": [],
   "source": [
    "hidden_size = 128\n",
    "batch_size = 64"
   ]
  },
  {
   "cell_type": "code",
   "execution_count": null,
   "metadata": {
    "collapsed": true
   },
   "outputs": [],
   "source": [
    "gru_model = Sequential()\n",
    "gru_model.add(GRU(hidden_size, input_shape=(99, 39)))\n",
    "gru_model.add(Dense(11))\n",
    "gru_model.add(Activation(\"softmax\"))\n",
    "\n",
    "gru_model.compile(optimizer=\"adam\", loss=\"categorical_crossentropy\",\n",
    "                   metrics=['categorical_accuracy'])\n"
   ]
  },
  {
   "cell_type": "code",
   "execution_count": null,
   "metadata": {},
   "outputs": [
    {
     "name": "stdout",
     "output_type": "stream",
     "text": [
      "Train on 51088 samples, validate on 6798 samples\n",
      "Epoch 1/10\n",
      "51088/51088 [==============================] - 136s 3ms/step - loss: 1.1155 - categorical_accuracy: 0.6852 - val_loss: 0.6028 - val_categorical_accuracy: 0.8170\n",
      "Epoch 2/10\n",
      "51088/51088 [==============================] - 133s 3ms/step - loss: 0.4394 - categorical_accuracy: 0.8655 - val_loss: 0.3759 - val_categorical_accuracy: 0.8856\n",
      "Epoch 3/10\n",
      "51088/51088 [==============================] - 134s 3ms/step - loss: 0.2828 - categorical_accuracy: 0.9148 - val_loss: 0.3070 - val_categorical_accuracy: 0.9014\n",
      "Epoch 4/10\n",
      "51088/51088 [==============================] - 134s 3ms/step - loss: 0.2216 - categorical_accuracy: 0.9339 - val_loss: 0.2860 - val_categorical_accuracy: 0.9134\n",
      "Epoch 5/10\n",
      "51088/51088 [==============================] - 134s 3ms/step - loss: 0.1852 - categorical_accuracy: 0.9427 - val_loss: 0.2707 - val_categorical_accuracy: 0.9176\n",
      "Epoch 6/10\n",
      "51088/51088 [==============================] - 135s 3ms/step - loss: 0.1632 - categorical_accuracy: 0.9490 - val_loss: 0.2706 - val_categorical_accuracy: 0.9195\n",
      "Epoch 7/10\n",
      "51088/51088 [==============================] - 135s 3ms/step - loss: 0.1429 - categorical_accuracy: 0.9551 - val_loss: 0.2489 - val_categorical_accuracy: 0.9238\n",
      "Epoch 8/10\n",
      "51088/51088 [==============================] - 136s 3ms/step - loss: 0.1276 - categorical_accuracy: 0.9605 - val_loss: 0.2640 - val_categorical_accuracy: 0.9203\n",
      "Epoch 9/10\n",
      "51088/51088 [==============================] - 133s 3ms/step - loss: 0.1176 - categorical_accuracy: 0.9634 - val_loss: 0.2595 - val_categorical_accuracy: 0.9222\n"
     ]
    },
    {
     "data": {
      "text/plain": [
       "<keras.callbacks.History at 0x7f5a8e755b00>"
      ]
     },
     "execution_count": 20,
     "metadata": {},
     "output_type": "execute_result"
    }
   ],
   "source": [
    "gru_model.fit(x=train[\"mfcc\"], y=train_labels, \n",
    "               validation_data=(valid[\"mfcc\"], valid_labels),\n",
    "               batch_size=batch_size, \n",
    "               callbacks=[early_stop_callback],\n",
    "               epochs=10, shuffle=True)"
   ]
  },
  {
   "cell_type": "markdown",
   "metadata": {},
   "source": [
    "Valid Accuracy 0.9238"
   ]
  },
  {
   "cell_type": "markdown",
   "metadata": {},
   "source": [
    "### GRU hidden_size=256"
   ]
  },
  {
   "cell_type": "code",
   "execution_count": 14,
   "metadata": {
    "collapsed": true
   },
   "outputs": [],
   "source": [
    "hidden_size = 256\n",
    "batch_size = 64"
   ]
  },
  {
   "cell_type": "code",
   "execution_count": 15,
   "metadata": {
    "collapsed": true
   },
   "outputs": [],
   "source": [
    "gru_model = Sequential()\n",
    "gru_model.add(GRU(hidden_size, input_shape=(99, 39)))\n",
    "gru_model.add(Dense(11))\n",
    "gru_model.add(Activation(\"softmax\"))\n",
    "\n",
    "gru_model.compile(optimizer=\"adam\", loss=\"categorical_crossentropy\",\n",
    "                   metrics=['categorical_accuracy'])\n"
   ]
  },
  {
   "cell_type": "code",
   "execution_count": 18,
   "metadata": {},
   "outputs": [
    {
     "name": "stdout",
     "output_type": "stream",
     "text": [
      "Train on 51088 samples, validate on 6798 samples\n",
      "Epoch 1/10\n",
      "51088/51088 [==============================] - 122s 2ms/step - loss: 0.7809 - categorical_accuracy: 0.7745 - val_loss: 0.3384 - val_categorical_accuracy: 0.8984\n",
      "Epoch 2/10\n",
      "51088/51088 [==============================] - 119s 2ms/step - loss: 0.2541 - categorical_accuracy: 0.9211 - val_loss: 0.2808 - val_categorical_accuracy: 0.9141\n",
      "Epoch 3/10\n",
      "51088/51088 [==============================] - 121s 2ms/step - loss: 0.1686 - categorical_accuracy: 0.9479 - val_loss: 0.2604 - val_categorical_accuracy: 0.9228\n",
      "Epoch 4/10\n",
      "51088/51088 [==============================] - 119s 2ms/step - loss: 0.1324 - categorical_accuracy: 0.9588 - val_loss: 0.2405 - val_categorical_accuracy: 0.9316\n",
      "Epoch 5/10\n",
      "51088/51088 [==============================] - 117s 2ms/step - loss: 0.1109 - categorical_accuracy: 0.9651 - val_loss: 0.2486 - val_categorical_accuracy: 0.9245\n",
      "Epoch 6/10\n",
      "51088/51088 [==============================] - 117s 2ms/step - loss: 0.0960 - categorical_accuracy: 0.9697 - val_loss: 0.2580 - val_categorical_accuracy: 0.9263\n"
     ]
    },
    {
     "data": {
      "text/plain": [
       "<keras.callbacks.History at 0x7f43cf9ddc50>"
      ]
     },
     "execution_count": 18,
     "metadata": {},
     "output_type": "execute_result"
    }
   ],
   "source": [
    "gru_model.fit(x=train[\"mfcc\"], y=train_labels, \n",
    "               validation_data=(valid[\"mfcc\"], valid_labels),\n",
    "               batch_size=batch_size, \n",
    "               callbacks=[early_stop_callback],\n",
    "               epochs=10, shuffle=True)"
   ]
  },
  {
   "cell_type": "markdown",
   "metadata": {},
   "source": [
    "validation accuracy 0.9316"
   ]
  },
  {
   "cell_type": "markdown",
   "metadata": {},
   "source": [
    "### GRU hidden_size= 512"
   ]
  },
  {
   "cell_type": "code",
   "execution_count": 19,
   "metadata": {
    "collapsed": true
   },
   "outputs": [],
   "source": [
    "hidden_size = 512\n",
    "batch_size = 64"
   ]
  },
  {
   "cell_type": "code",
   "execution_count": null,
   "metadata": {
    "collapsed": true
   },
   "outputs": [],
   "source": [
    "gru_model = Sequential()\n",
    "gru_model.add(GRU(hidden_size, input_shape=(99, 39)))\n",
    "gru_model.add(Dense(11))\n",
    "gru_model.add(Activation(\"softmax\"))\n",
    "\n",
    "gru_model.compile(optimizer=\"adam\", loss=\"categorical_crossentropy\",\n",
    "                   metrics=['categorical_accuracy'])\n"
   ]
  },
  {
   "cell_type": "code",
   "execution_count": null,
   "metadata": {},
   "outputs": [
    {
     "name": "stdout",
     "output_type": "stream",
     "text": [
      "Train on 51088 samples, validate on 6798 samples\n",
      "Epoch 1/10\n",
      "51088/51088 [==============================] - 249s 5ms/step - loss: 0.6745 - categorical_accuracy: 0.8004 - val_loss: 0.3370 - val_categorical_accuracy: 0.8963\n",
      "Epoch 2/10\n",
      "51088/51088 [==============================] - 250s 5ms/step - loss: 0.2479 - categorical_accuracy: 0.9249 - val_loss: 0.2848 - val_categorical_accuracy: 0.9125\n",
      "Epoch 3/10\n",
      "51088/51088 [==============================] - 248s 5ms/step - loss: 0.1564 - categorical_accuracy: 0.9507 - val_loss: 0.2509 - val_categorical_accuracy: 0.9250\n",
      "Epoch 5/10\n",
      "51088/51088 [==============================] - 250s 5ms/step - loss: 0.1418 - categorical_accuracy: 0.9552 - val_loss: 0.2619 - val_categorical_accuracy: 0.9207\n",
      "Epoch 6/10\n",
      "51088/51088 [==============================] - 249s 5ms/step - loss: 0.1278 - categorical_accuracy: 0.9594 - val_loss: 0.2384 - val_categorical_accuracy: 0.9278\n",
      "Epoch 7/10\n",
      "51088/51088 [==============================] - 247s 5ms/step - loss: 0.1147 - categorical_accuracy: 0.9638 - val_loss: 0.2563 - val_categorical_accuracy: 0.9253\n",
      "Epoch 8/10\n",
      "51088/51088 [==============================] - 250s 5ms/step - loss: 0.1168 - categorical_accuracy: 0.9626 - val_loss: 0.2530 - val_categorical_accuracy: 0.9214\n"
     ]
    },
    {
     "data": {
      "text/plain": [
       "<keras.callbacks.History at 0x7f7bbc116f60>"
      ]
     },
     "execution_count": 19,
     "metadata": {},
     "output_type": "execute_result"
    }
   ],
   "source": [
    "gru_model.fit(x=train[\"mfcc\"], y=train_labels, \n",
    "               validation_data=(valid[\"mfcc\"], valid_labels),\n",
    "               batch_size=batch_size, \n",
    "               callbacks=[early_stop_callback],\n",
    "               epochs=10, shuffle=True)"
   ]
  },
  {
   "cell_type": "markdown",
   "metadata": {},
   "source": [
    "validation accuracy 0.9278"
   ]
  }
 ],
 "metadata": {
  "kernelspec": {
   "display_name": "Python [default]",
   "language": "python",
   "name": "python3"
  },
  "language_info": {
   "codemirror_mode": {
    "name": "ipython",
    "version": 3
   },
   "file_extension": ".py",
   "mimetype": "text/x-python",
   "name": "python",
   "nbconvert_exporter": "python",
   "pygments_lexer": "ipython3",
   "version": "3.5.4"
  }
 },
 "nbformat": 4,
 "nbformat_minor": 2
}
